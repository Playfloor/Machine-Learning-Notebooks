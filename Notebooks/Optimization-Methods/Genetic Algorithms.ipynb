{
  "nbformat": 4,
  "nbformat_minor": 0,
  "metadata": {
    "colab": {
      "name": "Genetic Algorithms.ipynb",
      "provenance": [],
      "authorship_tag": "ABX9TyM2SllROn1lg0ynC6PF5nTz",
      "include_colab_link": true
    },
    "kernelspec": {
      "name": "python3",
      "display_name": "Python 3"
    },
    "language_info": {
      "name": "python"
    }
  },
  "cells": [
    {
      "cell_type": "markdown",
      "metadata": {
        "id": "view-in-github",
        "colab_type": "text"
      },
      "source": [
        "<a href=\"https://colab.research.google.com/github/tensorush/Machine-Learning-Notebooks/blob/master/Notebooks/Optimization-Methods/Genetic%20Algorithms.ipynb\" target=\"_parent\"><img src=\"https://colab.research.google.com/assets/colab-badge.svg\" alt=\"Open In Colab\"/></a>"
      ]
    },
    {
      "cell_type": "markdown",
      "metadata": {
        "id": "5mZjHuDM7Hzc"
      },
      "source": [
        "Install `pygmo` library."
      ]
    },
    {
      "cell_type": "code",
      "metadata": {
        "id": "jxLWfHvoehgf"
      },
      "source": [
        "!pip install -q pygmo"
      ],
      "execution_count": null,
      "outputs": []
    },
    {
      "cell_type": "markdown",
      "metadata": {
        "id": "bftm7D_67bR2"
      },
      "source": [
        "Import packages."
      ]
    },
    {
      "cell_type": "code",
      "metadata": {
        "id": "BL3qvc1L7hX4"
      },
      "source": [
        "import numpy as np\n",
        "import pygmo as pg"
      ],
      "execution_count": null,
      "outputs": []
    },
    {
      "cell_type": "markdown",
      "metadata": {
        "id": "c0lF3qlq7My2"
      },
      "source": [
        "Define target functional."
      ]
    },
    {
      "cell_type": "code",
      "metadata": {
        "id": "h399D-BBf8bG"
      },
      "source": [
        "class paraboloid:\n",
        "    def __init__(self, dim):\n",
        "        self.dim = dim\n",
        "\n",
        "    def fitness(self, x):\n",
        "        retval = np.zeros(1)\n",
        "        for i in range(len(x) - 1):\n",
        "            retval[0] += x[i] ** 2 + x[i + 1] ** 2\n",
        "        return retval\n",
        "\n",
        "    def get_bounds(self):\n",
        "        return (np.full((self.dim), -100.), np.full((self.dim), 100.))"
      ],
      "execution_count": 2,
      "outputs": []
    },
    {
      "cell_type": "markdown",
      "metadata": {
        "id": "aZWnZb1V7QqE"
      },
      "source": [
        "Run bee colony algorithm."
      ]
    },
    {
      "cell_type": "code",
      "metadata": {
        "colab": {
          "base_uri": "https://localhost:8080/"
        },
        "id": "BzdaFUCZq1Zm",
        "outputId": "f42771a8-83fa-43ac-8057-b2addd64ff75"
      },
      "source": [
        "problem = pg.problem(paraboloid(2))\n",
        "algorithm = pg.algorithm(pg.bee_colony(gen=100, limit=10))\n",
        "population = pg.population(problem, size=10)\n",
        "population = algorithm.evolve(population)\n",
        "print(population.champion_f)"
      ],
      "execution_count": 9,
      "outputs": [
        {
          "output_type": "stream",
          "name": "stdout",
          "text": [
            "[0.00013386]\n"
          ]
        }
      ]
    }
  ]
}